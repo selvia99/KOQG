{
 "cells": [
  {
   "cell_type": "code",
   "execution_count": null,
   "metadata": {},
   "outputs": [],
   "source": []
  },
  {
   "cell_type": "code",
   "execution_count": 4,
   "metadata": {},
   "outputs": [],
   "source": [
    "import numpy as np\n",
    "def bacaTriplet(namaFile):\n",
    "    lines = []\n",
    "    with open(namaFile,'r+') as f:\n",
    "        line=f.read().splitlines()\n",
    "        lines.append(line)\n",
    "    lines = np.array(lines)\n",
    "    subjek = []\n",
    "    for i in range(lines.shape[1]):\n",
    "        a = lines[0,i].split(\" \")\n",
    "        subjek.append(a)\n",
    "    return subjek"
   ]
  },
  {
   "cell_type": "code",
   "execution_count": 7,
   "metadata": {},
   "outputs": [],
   "source": [
    "#5. LOKASI\n",
    "\n",
    "def pertanyaan5(x, file):\n",
    "    result = []\n",
    "    for i in range(file.shape[0]):\n",
    "        if(file[i,0] == x): \n",
    "            result.append(file[i,2])\n",
    "            if(file[i,1] != 'hasbPre' and file[i,1] != 'hascObj' and \n",
    "               file[i,1] != 'hasdPel' and file[i,1] != 'haseKet' and \n",
    "               file[i,1] != 'hasFnom' and file[i,1] != 'hasFadje' and\n",
    "               file[i,1] != 'hasFverb' and file[i,1] != 'hasFnum' and\n",
    "               file[i,1] != 'hasPewatas' and file[i,1] != 'hasKlausa' and\n",
    "               file[i,1] != 'hasFprep' and file[i,1] != 'hasZnext' and\n",
    "               file[i,1] != 'hasaSub' and file[i,1] != 'hasNext'):\n",
    "                print(file[i,2],end=' ')\n",
    "        \n",
    "        if (file[i,2]== \"ke\"):\n",
    "            break\n",
    "            \n",
    "    result = np.array(result)\n",
    "    \n",
    "    for i in result:\n",
    "        pertanyaan5(i, file)\n",
    "\n",
    "def soal5(x, file):\n",
    "    pertanyaan5 (x,file)\n",
    "    print (\"....\",end=' ')\n",
    "    print (\"\")"
   ]
  },
  {
   "cell_type": "code",
   "execution_count": 8,
   "metadata": {},
   "outputs": [
    {
     "name": "stdout",
     "output_type": "stream",
     "text": [
      "ras melanesoid merupakan ras yang datang ke .... \n"
     ]
    }
   ],
   "source": [
    "file = bacaTriplet('FS2.txt')\n",
    "file = np.array(file)\n",
    " \n",
    "soal5 ('s10',file)"
   ]
  },
  {
   "cell_type": "code",
   "execution_count": null,
   "metadata": {},
   "outputs": [],
   "source": []
  }
 ],
 "metadata": {
  "colab": {
   "collapsed_sections": [],
   "provenance": []
  },
  "kernelspec": {
   "display_name": "Python 3",
   "language": "python",
   "name": "python3"
  },
  "language_info": {
   "codemirror_mode": {
    "name": "ipython",
    "version": 3
   },
   "file_extension": ".py",
   "mimetype": "text/x-python",
   "name": "python",
   "nbconvert_exporter": "python",
   "pygments_lexer": "ipython3",
   "version": "3.7.3"
  },
  "vscode": {
   "interpreter": {
    "hash": "31f2aee4e71d21fbe5cf8b01ff0e069b9275f58929596ceb00d14d90e3e16cd6"
   }
  }
 },
 "nbformat": 4,
 "nbformat_minor": 2
}
