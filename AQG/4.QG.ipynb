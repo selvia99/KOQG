{
 "cells": [
  {
   "cell_type": "code",
   "execution_count": null,
   "metadata": {},
   "outputs": [],
   "source": []
  },
  {
   "cell_type": "code",
   "execution_count": 2,
   "metadata": {},
   "outputs": [],
   "source": [
    "import numpy as np\n",
    "def bacaTriplet(namaFile):\n",
    "    lines = []\n",
    "    with open(namaFile,'r+') as f:\n",
    "        line=f.read().splitlines()\n",
    "        lines.append(line)\n",
    "    lines = np.array(lines)\n",
    "    subjek = []\n",
    "    for i in range(lines.shape[1]):\n",
    "        a = lines[0,i].split(\" \")\n",
    "        subjek.append(a)\n",
    "    return subjek"
   ]
  },
  {
   "cell_type": "code",
   "execution_count": 3,
   "metadata": {},
   "outputs": [],
   "source": [
    "import numpy as np\n",
    "def bacaTemplat(namaFile):\n",
    "    lines = []\n",
    "    with open(namaFile,'r+') as f:\n",
    "        line=f.read().splitlines()\n",
    "        lines.append(line)\n",
    "    lines = np.array(lines)\n",
    "    subjek = []\n",
    "    for i in range(lines.shape[1]):\n",
    "        a = lines[0,i].split(\" \")\n",
    "        subjek.append(a)\n",
    "    return subjek"
   ]
  },
  {
   "cell_type": "code",
   "execution_count": 4,
   "metadata": {},
   "outputs": [],
   "source": [
    "def pertanyaan1a(file,templat):\n",
    "    result = []\n",
    "    for i in range(file.shape[0]): # jumlah triplet\n",
    "        for j in range(templat.shape[0]): #jumlah templat\n",
    "            for k in range (len(templat[j])): #jumlah kata dalam kalimat templat\n",
    "                #print(j,' ', k)\n",
    "                if(templat[j][k] == '[class]'):\n",
    "                    print(file[i,2],end=' ')\n",
    "                elif (templat[j][k] == '[instance]'):\n",
    "                    print(file[i,0],end=' ')\n",
    "                else:\n",
    "                    print(templat[j][k],end=' ')\n",
    "            print('')\n",
    "        print('')"
   ]
  },
  {
   "cell_type": "code",
   "execution_count": 5,
   "metadata": {},
   "outputs": [
    {
     "name": "stdout",
     "output_type": "stream",
     "text": [
      "Apakah suku_amuge bagian dari Ras_melanesoid ? \n",
      "Ras_melanesoid terdiri dari... \n",
      "suku_amuge bagian dari... \n",
      "\n",
      "Apakah suku_asmat bagian dari Ras_melanesoid ? \n",
      "Ras_melanesoid terdiri dari... \n",
      "suku_asmat bagian dari... \n",
      "\n",
      "Apakah suku_huli bagian dari Ras_melanesoid ? \n",
      "Ras_melanesoid terdiri dari... \n",
      "suku_huli bagian dari... \n",
      "\n"
     ]
    }
   ],
   "source": [
    "file = bacaTriplet('QGOT1.txt')\n",
    "file = np.array(file)\n",
    "templat = bacaTemplat('QGOT2.txt')\n",
    "templat = np.array(templat)\n",
    "\n",
    "pertanyaan1a (file,templat)\n",
    "    "
   ]
  },
  {
   "cell_type": "code",
   "execution_count": null,
   "metadata": {},
   "outputs": [],
   "source": [
    "#print(templat[1])"
   ]
  },
  {
   "cell_type": "code",
   "execution_count": null,
   "metadata": {},
   "outputs": [],
   "source": [
    "# Apakah [instance] bagian dari [class]?\n",
    "# [class] terdiri dari..."
   ]
  },
  {
   "cell_type": "code",
   "execution_count": null,
   "metadata": {},
   "outputs": [],
   "source": [
    "# suku_amuge 6 Ras_melanesoid\n",
    "# suku_asmat 6 Ras_melanesoid\n",
    "# suku_huli 6 Ras_melanesoid\n",
    "# suku_amuge 6 Ras_melanesoid"
   ]
  }
 ],
 "metadata": {
  "colab": {
   "collapsed_sections": [],
   "provenance": []
  },
  "kernelspec": {
   "display_name": "Python 3",
   "language": "python",
   "name": "python3"
  },
  "language_info": {
   "codemirror_mode": {
    "name": "ipython",
    "version": 3
   },
   "file_extension": ".py",
   "mimetype": "text/x-python",
   "name": "python",
   "nbconvert_exporter": "python",
   "pygments_lexer": "ipython3",
   "version": "3.7.3"
  },
  "vscode": {
   "interpreter": {
    "hash": "31f2aee4e71d21fbe5cf8b01ff0e069b9275f58929596ceb00d14d90e3e16cd6"
   }
  }
 },
 "nbformat": 4,
 "nbformat_minor": 4
}
