{
 "cells": [
  {
   "cell_type": "code",
   "execution_count": 4,
   "metadata": {},
   "outputs": [],
   "source": [
    "#QUERY RELASI KALIMAT\n",
    "\n",
    "from owlready2 import *\n",
    "import rdflib\n",
    "\n",
    "onto = get_ontology(\"Eksperimen.owl\").load()"
   ]
  },
  {
   "cell_type": "code",
   "execution_count": 8,
   "metadata": {},
   "outputs": [],
   "source": [
    "#PENGAMBILAN SUSUNAN KALIMAT OTOMATIS\n",
    "import numpy as np\n",
    "#file1 = open(\"HasilRec.txt\",\"w\")\n",
    "\n",
    "def recursion(x):\n",
    "    \n",
    "    result = list(default_world.sparql(\"\"\"\n",
    "    PREFIX okbi: <http://purl.org/net/Eksperimen#>\n",
    "    SELECT ?subjek ?predikat ?objek\n",
    "    WHERE\n",
    "    { \n",
    "      ?p rdf:type owl:ObjectProperty \n",
    "      ?predikat rdfs:subPropertyOf* ?p.\n",
    "      ?subjek ?predikat ?objek. \n",
    "      FILTER (?subjek =\"\"\" + x + \"\"\"\n",
    "      )\n",
    "    }\n",
    "    \"\"\"))\n",
    "    \n",
    "    #print(x)\n",
    "    result = np.array(result)\n",
    "    if(len(result) !=0 ):\n",
    "        print(result)\n",
    "    \n",
    "    for i in result:\n",
    "        if(str(i[1]).split('.')[1]!='hasNext'):\n",
    "            recursion('okbi:'+str(i[2]).split('.')[1])"
   ]
  },
  {
   "cell_type": "code",
   "execution_count": 19,
   "metadata": {},
   "outputs": [
    {
     "name": "stdout",
     "output_type": "stream",
     "text": [
      "[[Eksperimen.s10 Eksperimen.hasaSub Eksperimen.sub11]\n",
      " [Eksperimen.s10 Eksperimen.hasbPre Eksperimen.pre13]\n",
      " [Eksperimen.s10 Eksperimen.hascObj Eksperimen.obj11]\n",
      " [Eksperimen.s10 Eksperimen.haseKet Eksperimen.ket5]]\n",
      "[[Eksperimen.sub11 Eksperimen.hasZnext Eksperimen.fnom8]]\n",
      "[[Eksperimen.fnom8 Eksperimen.hasFnom Eksperimen.fnom8a]\n",
      " [Eksperimen.fnom8 Eksperimen.hasFnom Eksperimen.fnom8b]]\n",
      "[[Eksperimen.fnom8a Eksperimen.hasNN Eksperimen.ras]]\n",
      "[[Eksperimen.fnom8b Eksperimen.hasNNP Eksperimen.melanesoid]]\n",
      "[[Eksperimen.pre13 Eksperimen.hasVB Eksperimen.merupakan]]\n",
      "[[Eksperimen.obj11 Eksperimen.hasNN Eksperimen.ras]\n",
      " [Eksperimen.obj11 Eksperimen.hasZnext Eksperimen.pewatas2]]\n",
      "[[Eksperimen.pewatas2 Eksperimen.hasPewatas Eksperimen.pewatas2a]\n",
      " [Eksperimen.pewatas2 Eksperimen.hasPewatas Eksperimen.pewatas2b]\n",
      " [Eksperimen.pewatas2 Eksperimen.hasPewatas Eksperimen.pewatas2c]\n",
      " [Eksperimen.pewatas2 Eksperimen.hasZnext Eksperimen.fprep3]]\n",
      "[[Eksperimen.pewatas2a Eksperimen.hasDT Eksperimen.yang]]\n",
      "[[Eksperimen.pewatas2b Eksperimen.hasVB Eksperimen.datang]]\n",
      "[[Eksperimen.pewatas2c Eksperimen.hasFprep Eksperimen.in]]\n",
      "[[Eksperimen.fprep3 Eksperimen.hasIN Eksperimen.ke]\n",
      " [Eksperimen.fprep3 Eksperimen.hasZnext Eksperimen.fnom9]]\n",
      "[[Eksperimen.fnom9 Eksperimen.hasFnom Eksperimen.fnom9a]\n",
      " [Eksperimen.fnom9 Eksperimen.hasFnom Eksperimen.fnom9b]]\n",
      "[[Eksperimen.fnom9a Eksperimen.hasNN Eksperimen.kepulauan]]\n",
      "[[Eksperimen.fnom9b Eksperimen.hasNNP Eksperimen.indonesia]]\n",
      "[[Eksperimen.ket5 Eksperimen.hasKlausa Eksperimen.klausa4]\n",
      " [Eksperimen.ket5 Eksperimen.hasaSC Eksperimen.setelah]]\n",
      "[[Eksperimen.klausa4 Eksperimen.hasaSub Eksperimen.sub12]\n",
      " [Eksperimen.klausa4 Eksperimen.hasbPre Eksperimen.pre14]]\n",
      "[[Eksperimen.sub12 Eksperimen.hasZnext Eksperimen.fnom10]]\n",
      "[[Eksperimen.fnom10 Eksperimen.hasFnom Eksperimen.fnom10a]\n",
      " [Eksperimen.fnom10 Eksperimen.hasFnom Eksperimen.fnom10b]]\n",
      "[[Eksperimen.fnom10a Eksperimen.hasNNP Eksperimen.proto]]\n",
      "[[Eksperimen.fnom10b Eksperimen.hasNNP Eksperimen.melayu]]\n",
      "[[Eksperimen.pre14 Eksperimen.hasVB Eksperimen.datang]]\n"
     ]
    }
   ],
   "source": [
    "#recursion('okbi:s3')\n",
    "recursion('okbi:s10')"
   ]
  },
  {
   "cell_type": "code",
   "execution_count": 20,
   "metadata": {},
   "outputs": [
    {
     "name": "stdout",
     "output_type": "stream",
     "text": [
      "preproses selesai\n"
     ]
    }
   ],
   "source": [
    "#PREPROSES HASIL QUERY\n",
    "import re\n",
    "\n",
    "inputs = open(r\"FS1.txt\",\"r\").read()\n",
    "inputs = inputs.split(\"\\n\")\n",
    "\n",
    "file1 = open(\"FS2.txt\",\"w\")\n",
    "\n",
    "for i in inputs:\n",
    "    a = i.replace(\"[\", \"\")\n",
    "    b = a.replace(\"]\", \"\")\n",
    "    b = b.replace(\"'\", \"\")\n",
    "    b = b.replace(\",\", \"\")\n",
    "    c = b.replace(\"Eksperimen.\", \"\")\n",
    "     \n",
    "    file1.writelines (c.strip())\n",
    "    file1.writelines (\"\\n\")\n",
    "   \n",
    "print(\"preproses selesai\")\n",
    "file1.close()   "
   ]
  }
 ],
 "metadata": {
  "colab": {
   "collapsed_sections": [],
   "provenance": []
  },
  "kernelspec": {
   "display_name": "Python 3",
   "language": "python",
   "name": "python3"
  },
  "language_info": {
   "codemirror_mode": {
    "name": "ipython",
    "version": 3
   },
   "file_extension": ".py",
   "mimetype": "text/x-python",
   "name": "python",
   "nbconvert_exporter": "python",
   "pygments_lexer": "ipython3",
   "version": "3.7.3"
  },
  "vscode": {
   "interpreter": {
    "hash": "31f2aee4e71d21fbe5cf8b01ff0e069b9275f58929596ceb00d14d90e3e16cd6"
   }
  }
 },
 "nbformat": 4,
 "nbformat_minor": 2
}
